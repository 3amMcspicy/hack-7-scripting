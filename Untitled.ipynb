{
 "cells": [
  {
   "cell_type": "code",
   "execution_count": 7,
   "id": "weird-andorra",
   "metadata": {},
   "outputs": [],
   "source": [
    "import sys\n",
    "sys.path.append(\"../\")"
   ]
  },
  {
   "cell_type": "code",
   "execution_count": 8,
   "id": "verbal-cholesterol",
   "metadata": {},
   "outputs": [
    {
     "data": {
      "text/plain": [
       "['/home/bitcometsis/hacks/hack-7-scripting',\n",
       " '/home/bitcometsis/miniconda3/lib/python38.zip',\n",
       " '/home/bitcometsis/miniconda3/lib/python3.8',\n",
       " '/home/bitcometsis/miniconda3/lib/python3.8/lib-dynload',\n",
       " '',\n",
       " '/home/bitcometsis/miniconda3/lib/python3.8/site-packages',\n",
       " '/home/bitcometsis/miniconda3/lib/python3.8/site-packages/IPython/extensions',\n",
       " '/home/bitcometsis/.ipython',\n",
       " '../']"
      ]
     },
     "execution_count": 8,
     "metadata": {},
     "output_type": "execute_result"
    }
   ],
   "source": [
    "sys.path"
   ]
  },
  {
   "cell_type": "code",
   "execution_count": 4,
   "id": "sound-coupon",
   "metadata": {},
   "outputs": [],
   "source": [
    "import mypackage\n",
    "from mypackage import mymodule"
   ]
  },
  {
   "cell_type": "code",
   "execution_count": 6,
   "id": "precise-cambridge",
   "metadata": {},
   "outputs": [
    {
     "data": {
      "text/plain": [
       "'Yes – definitely.'"
      ]
     },
     "execution_count": 6,
     "metadata": {},
     "output_type": "execute_result"
    }
   ],
   "source": [
    "mymodule.magic_eight_ball()"
   ]
  },
  {
   "cell_type": "code",
   "execution_count": 1,
   "id": "dirty-prospect",
   "metadata": {},
   "outputs": [],
   "source": [
    "import sys\n",
    "sys.path.append(\"..\")"
   ]
  },
  {
   "cell_type": "code",
   "execution_count": 2,
   "id": "rubber-broadcasting",
   "metadata": {},
   "outputs": [
    {
     "data": {
      "text/plain": [
       "'It is decidedly so.'"
      ]
     },
     "execution_count": 2,
     "metadata": {},
     "output_type": "execute_result"
    }
   ],
   "source": [
    "import mypackage\n",
    "mypackage.mymodule.magic_eight_ball()"
   ]
  },
  {
   "cell_type": "code",
   "execution_count": 3,
   "id": "interim-claim",
   "metadata": {},
   "outputs": [],
   "source": [
    "mypackage?\n"
   ]
  },
  {
   "cell_type": "code",
   "execution_count": null,
   "id": "violent-narrative",
   "metadata": {},
   "outputs": [],
   "source": []
  }
 ],
 "metadata": {
  "kernelspec": {
   "display_name": "Python 3",
   "language": "python",
   "name": "python3"
  },
  "language_info": {
   "codemirror_mode": {
    "name": "ipython",
    "version": 3
   },
   "file_extension": ".py",
   "mimetype": "text/x-python",
   "name": "python",
   "nbconvert_exporter": "python",
   "pygments_lexer": "ipython3",
   "version": "3.8.5"
  }
 },
 "nbformat": 4,
 "nbformat_minor": 5
}
